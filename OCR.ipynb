{
 "cells": [
  {
   "cell_type": "code",
   "execution_count": 6,
   "id": "b56dbe58",
   "metadata": {},
   "outputs": [
    {
     "name": "stdout",
     "output_type": "stream",
     "text": [
      "yy... ee «|\n",
      "Maria Smith F39540 9A Maria Smith\n",
      "\n",
      "airtickot\n",
      "\n",
      "FROM: San Francisco, CA (SFO)\n",
      "TO: New York, NY (JFK)\n",
      "\n",
      "FROM: San Francisco, CA (SFO) DATE: DATE:\n",
      "\n",
      "TO: New York, NY (JFK) 09 NOV 2021 oe tae\n",
      "ruc: F3954\n",
      "\n",
      "oaTe: 7 BOARDING TIME: 09:30\n",
      "\n",
      "GATE) SEAT: BOARDING TIME:\n",
      "\n",
      "- 9A 09:30\n",
      "Minn WivVNUUIUN\n",
      "got close 30 ins beer cpartre , |\n",
      "\n",
      "\n"
     ]
    }
   ],
   "source": [
    "import pytesseract\n",
    "from PIL import Image\n",
    "\n",
    "# Charger une image de billet d'avion\n",
    "image = Image.open(\"/home/mohamed/myproject/billet.PNG\")\n",
    "\n",
    "# OCR avec Tesseract\n",
    "text = pytesseract.image_to_string(image, lang=\"eng\")\n",
    "\n",
    "# Affichage du texte brut\n",
    "print(text)\n",
    "\n",
    "# Exemple simple : extraire le numéro de vol s'il suit \"Flight:\"\n",
    "import re\n",
    "match = re.search(r\"Flight[: ]+([A-Z0-9]+)\", text)\n",
    "if match:\n",
    "    print(\"Numéro de vol :\", match.group(1))\n"
   ]
  },
  {
   "cell_type": "code",
   "execution_count": null,
   "id": "dad0fcac",
   "metadata": {},
   "outputs": [],
   "source": []
  }
 ],
 "metadata": {
  "kernelspec": {
   "display_name": "myenv",
   "language": "python",
   "name": "python3"
  },
  "language_info": {
   "codemirror_mode": {
    "name": "ipython",
    "version": 3
   },
   "file_extension": ".py",
   "mimetype": "text/x-python",
   "name": "python",
   "nbconvert_exporter": "python",
   "pygments_lexer": "ipython3",
   "version": "3.12.3"
  }
 },
 "nbformat": 4,
 "nbformat_minor": 5
}
